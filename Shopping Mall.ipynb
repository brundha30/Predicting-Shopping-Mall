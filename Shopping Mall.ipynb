{
 "cells": [
  {
   "cell_type": "markdown",
   "metadata": {},
   "source": [
    "# Question-4"
   ]
  },
  {
   "cell_type": "markdown",
   "metadata": {},
   "source": [
    "Student Attendance Dashboard for Decision Making. You will be given a Google Sheet with different sheets holding data of different classes. Create a dashboard showing a summary of what's happening across different classes. Which students need attention for missing sessions? Which students are unsatisfied? Which students are very satisfied? Column shows attendance. R- Column shows the rating by the candidate. Extra marks for identifying more useful insights. Missing values of the Type column can be treated as STUDENT. This data gets updated on a daily basis. The latest data gets injected in early columns. Your code shouldn't need any changes to deal with the latest data. Please note: Visualisation is mandatory. You will receive 0 marks if you do not add visualisation.\n",
    "\n",
    "Data Link: https://docs.google.com/spreadsheets/d/1Y_g6LQI2GLqpKf-fj-rH7D9gfnP2MJzpFA6t0AsBMi8/edit?usp=sharing"
   ]
  },
  {
   "cell_type": "markdown",
   "metadata": {},
   "source": [
    "# Import the Standard Libraries"
   ]
  },
  {
   "cell_type": "code",
   "execution_count": 1,
   "metadata": {},
   "outputs": [],
   "source": [
    "import pandas as pd\n",
    "import numpy as np\n",
    "import matplotlib.pyplot as plt\n",
    "import seaborn as sns\n",
    "import warnings\n",
    "warnings.filterwarnings(\"ignore\")"
   ]
  },
  {
   "cell_type": "markdown",
   "metadata": {},
   "source": [
    "# Load the dataset"
   ]
  },
  {
   "cell_type": "code",
   "execution_count": 2,
   "metadata": {},
   "outputs": [],
   "source": [
    "class_1 = pd.read_csv(\"Class1_data.csv\")\n",
    "class_2 = pd.read_csv(\"Class2_data.csv\")"
   ]
  },
  {
   "cell_type": "code",
   "execution_count": 3,
   "metadata": {},
   "outputs": [
    {
     "data": {
      "text/html": [
       "<div>\n",
       "<style scoped>\n",
       "    .dataframe tbody tr th:only-of-type {\n",
       "        vertical-align: middle;\n",
       "    }\n",
       "\n",
       "    .dataframe tbody tr th {\n",
       "        vertical-align: top;\n",
       "    }\n",
       "\n",
       "    .dataframe thead th {\n",
       "        text-align: right;\n",
       "    }\n",
       "</style>\n",
       "<table border=\"1\" class=\"dataframe\">\n",
       "  <thead>\n",
       "    <tr style=\"text-align: right;\">\n",
       "      <th></th>\n",
       "      <th>Student Roll Num</th>\n",
       "      <th>Type</th>\n",
       "      <th>10-01-21</th>\n",
       "      <th>R-10-01-21</th>\n",
       "      <th>09-01-21</th>\n",
       "      <th>R-9-01-21</th>\n",
       "      <th>08-01-21</th>\n",
       "      <th>R-8-01-21</th>\n",
       "      <th>07-01-21</th>\n",
       "      <th>R-7-01-21</th>\n",
       "      <th>...</th>\n",
       "      <th>05-01-21</th>\n",
       "      <th>R-5-01-21</th>\n",
       "      <th>04-01-21</th>\n",
       "      <th>R-4-01-21</th>\n",
       "      <th>03-01-21</th>\n",
       "      <th>R-3-01-21</th>\n",
       "      <th>02-01-21</th>\n",
       "      <th>R-02-01-21</th>\n",
       "      <th>01-01-21</th>\n",
       "      <th>R-01-01-21</th>\n",
       "    </tr>\n",
       "  </thead>\n",
       "  <tbody>\n",
       "    <tr>\n",
       "      <th>0</th>\n",
       "      <td>1</td>\n",
       "      <td>WORKING</td>\n",
       "      <td>Missed</td>\n",
       "      <td>6</td>\n",
       "      <td>Missed</td>\n",
       "      <td>10</td>\n",
       "      <td>Missed</td>\n",
       "      <td>5</td>\n",
       "      <td>Missed</td>\n",
       "      <td>6</td>\n",
       "      <td>...</td>\n",
       "      <td>Missed</td>\n",
       "      <td>6</td>\n",
       "      <td>Missed</td>\n",
       "      <td>8</td>\n",
       "      <td>Missed</td>\n",
       "      <td>9</td>\n",
       "      <td>Missed</td>\n",
       "      <td>10</td>\n",
       "      <td>Missed</td>\n",
       "      <td>10</td>\n",
       "    </tr>\n",
       "    <tr>\n",
       "      <th>1</th>\n",
       "      <td>2</td>\n",
       "      <td>NaN</td>\n",
       "      <td>Missed</td>\n",
       "      <td>10</td>\n",
       "      <td>Missed</td>\n",
       "      <td>10</td>\n",
       "      <td>Missed</td>\n",
       "      <td>6</td>\n",
       "      <td>Attended</td>\n",
       "      <td>9</td>\n",
       "      <td>...</td>\n",
       "      <td>Attended</td>\n",
       "      <td>8</td>\n",
       "      <td>Attended</td>\n",
       "      <td>6</td>\n",
       "      <td>Missed</td>\n",
       "      <td>7</td>\n",
       "      <td>Attended</td>\n",
       "      <td>10</td>\n",
       "      <td>Missed</td>\n",
       "      <td>8</td>\n",
       "    </tr>\n",
       "    <tr>\n",
       "      <th>2</th>\n",
       "      <td>3</td>\n",
       "      <td>STUDENT</td>\n",
       "      <td>Missed</td>\n",
       "      <td>10</td>\n",
       "      <td>Missed</td>\n",
       "      <td>8</td>\n",
       "      <td>Missed</td>\n",
       "      <td>9</td>\n",
       "      <td>Missed</td>\n",
       "      <td>9</td>\n",
       "      <td>...</td>\n",
       "      <td>Attended</td>\n",
       "      <td>9</td>\n",
       "      <td>Missed</td>\n",
       "      <td>7</td>\n",
       "      <td>Missed</td>\n",
       "      <td>7</td>\n",
       "      <td>Attended</td>\n",
       "      <td>5</td>\n",
       "      <td>Attended</td>\n",
       "      <td>6</td>\n",
       "    </tr>\n",
       "    <tr>\n",
       "      <th>3</th>\n",
       "      <td>4</td>\n",
       "      <td>STUDENT</td>\n",
       "      <td>Missed</td>\n",
       "      <td>10</td>\n",
       "      <td>Missed</td>\n",
       "      <td>8</td>\n",
       "      <td>Attended</td>\n",
       "      <td>10</td>\n",
       "      <td>Missed</td>\n",
       "      <td>6</td>\n",
       "      <td>...</td>\n",
       "      <td>Missed</td>\n",
       "      <td>6</td>\n",
       "      <td>Attended</td>\n",
       "      <td>9</td>\n",
       "      <td>Attended</td>\n",
       "      <td>8</td>\n",
       "      <td>Attended</td>\n",
       "      <td>8</td>\n",
       "      <td>Attended</td>\n",
       "      <td>7</td>\n",
       "    </tr>\n",
       "    <tr>\n",
       "      <th>4</th>\n",
       "      <td>5</td>\n",
       "      <td>WORKING</td>\n",
       "      <td>Missed</td>\n",
       "      <td>10</td>\n",
       "      <td>Missed</td>\n",
       "      <td>6</td>\n",
       "      <td>Missed</td>\n",
       "      <td>8</td>\n",
       "      <td>Missed</td>\n",
       "      <td>9</td>\n",
       "      <td>...</td>\n",
       "      <td>Missed</td>\n",
       "      <td>7</td>\n",
       "      <td>Missed</td>\n",
       "      <td>10</td>\n",
       "      <td>Missed</td>\n",
       "      <td>5</td>\n",
       "      <td>Missed</td>\n",
       "      <td>8</td>\n",
       "      <td>Missed</td>\n",
       "      <td>10</td>\n",
       "    </tr>\n",
       "  </tbody>\n",
       "</table>\n",
       "<p>5 rows × 22 columns</p>\n",
       "</div>"
      ],
      "text/plain": [
       "   Student Roll Num     Type 10-01-21  R-10-01-21 09-01-21  R-9-01-21  \\\n",
       "0                 1  WORKING   Missed           6   Missed         10   \n",
       "1                 2      NaN   Missed          10   Missed         10   \n",
       "2                 3  STUDENT   Missed          10   Missed          8   \n",
       "3                 4  STUDENT   Missed          10   Missed          8   \n",
       "4                 5  WORKING   Missed          10   Missed          6   \n",
       "\n",
       "   08-01-21  R-8-01-21  07-01-21  R-7-01-21  ...  05-01-21  R-5-01-21  \\\n",
       "0    Missed          5    Missed          6  ...    Missed          6   \n",
       "1    Missed          6  Attended          9  ...  Attended          8   \n",
       "2    Missed          9    Missed          9  ...  Attended          9   \n",
       "3  Attended         10    Missed          6  ...    Missed          6   \n",
       "4    Missed          8    Missed          9  ...    Missed          7   \n",
       "\n",
       "   04-01-21  R-4-01-21  03-01-21  R-3-01-21  02-01-21  R-02-01-21  01-01-21  \\\n",
       "0    Missed          8    Missed          9    Missed          10    Missed   \n",
       "1  Attended          6    Missed          7  Attended          10    Missed   \n",
       "2    Missed          7    Missed          7  Attended           5  Attended   \n",
       "3  Attended          9  Attended          8  Attended           8  Attended   \n",
       "4    Missed         10    Missed          5    Missed           8    Missed   \n",
       "\n",
       "   R-01-01-21  \n",
       "0          10  \n",
       "1           8  \n",
       "2           6  \n",
       "3           7  \n",
       "4          10  \n",
       "\n",
       "[5 rows x 22 columns]"
      ]
     },
     "execution_count": 3,
     "metadata": {},
     "output_type": "execute_result"
    }
   ],
   "source": [
    "class_1.head()"
   ]
  },
  {
   "cell_type": "code",
   "execution_count": 4,
   "metadata": {},
   "outputs": [
    {
     "data": {
      "text/html": [
       "<div>\n",
       "<style scoped>\n",
       "    .dataframe tbody tr th:only-of-type {\n",
       "        vertical-align: middle;\n",
       "    }\n",
       "\n",
       "    .dataframe tbody tr th {\n",
       "        vertical-align: top;\n",
       "    }\n",
       "\n",
       "    .dataframe thead th {\n",
       "        text-align: right;\n",
       "    }\n",
       "</style>\n",
       "<table border=\"1\" class=\"dataframe\">\n",
       "  <thead>\n",
       "    <tr style=\"text-align: right;\">\n",
       "      <th></th>\n",
       "      <th>Student Roll Num</th>\n",
       "      <th>Type</th>\n",
       "      <th>10-01-21</th>\n",
       "      <th>R-10-01-21</th>\n",
       "      <th>09-01-21</th>\n",
       "      <th>R-9-01-21</th>\n",
       "      <th>08-01-21</th>\n",
       "      <th>R-8-01-21</th>\n",
       "      <th>07-01-21</th>\n",
       "      <th>R-7-01-21</th>\n",
       "      <th>06-01-21</th>\n",
       "      <th>R-6-01-21</th>\n",
       "      <th>05-01-21</th>\n",
       "      <th>R-5-01-21</th>\n",
       "      <th>04-01-21</th>\n",
       "      <th>R-4-01-21</th>\n",
       "      <th>03-01-21</th>\n",
       "      <th>R-3-01-21</th>\n",
       "      <th>01-01-21</th>\n",
       "      <th>R-01-01-21</th>\n",
       "    </tr>\n",
       "  </thead>\n",
       "  <tbody>\n",
       "    <tr>\n",
       "      <th>0</th>\n",
       "      <td>1</td>\n",
       "      <td>NaN</td>\n",
       "      <td>Attended</td>\n",
       "      <td>10</td>\n",
       "      <td>Attended</td>\n",
       "      <td>10</td>\n",
       "      <td>Attended</td>\n",
       "      <td>7</td>\n",
       "      <td>Attended</td>\n",
       "      <td>9</td>\n",
       "      <td>Attended</td>\n",
       "      <td>8</td>\n",
       "      <td>Attended</td>\n",
       "      <td>10</td>\n",
       "      <td>Attended</td>\n",
       "      <td>9</td>\n",
       "      <td>Missed</td>\n",
       "      <td>5</td>\n",
       "      <td>NaN</td>\n",
       "      <td>NaN</td>\n",
       "    </tr>\n",
       "    <tr>\n",
       "      <th>1</th>\n",
       "      <td>2</td>\n",
       "      <td>NaN</td>\n",
       "      <td>Attended</td>\n",
       "      <td>8</td>\n",
       "      <td>Attended</td>\n",
       "      <td>7</td>\n",
       "      <td>Attended</td>\n",
       "      <td>9</td>\n",
       "      <td>Attended</td>\n",
       "      <td>10</td>\n",
       "      <td>Attended</td>\n",
       "      <td>5</td>\n",
       "      <td>Attended</td>\n",
       "      <td>8</td>\n",
       "      <td>Attended</td>\n",
       "      <td>9</td>\n",
       "      <td>Attended</td>\n",
       "      <td>5</td>\n",
       "      <td>NaN</td>\n",
       "      <td>NaN</td>\n",
       "    </tr>\n",
       "    <tr>\n",
       "      <th>2</th>\n",
       "      <td>3</td>\n",
       "      <td>STUDENT</td>\n",
       "      <td>Missed</td>\n",
       "      <td>9</td>\n",
       "      <td>Missed</td>\n",
       "      <td>10</td>\n",
       "      <td>Missed</td>\n",
       "      <td>5</td>\n",
       "      <td>Missed</td>\n",
       "      <td>8</td>\n",
       "      <td>Missed</td>\n",
       "      <td>7</td>\n",
       "      <td>Missed</td>\n",
       "      <td>10</td>\n",
       "      <td>Missed</td>\n",
       "      <td>7</td>\n",
       "      <td>Missed</td>\n",
       "      <td>7</td>\n",
       "      <td>NaN</td>\n",
       "      <td>NaN</td>\n",
       "    </tr>\n",
       "    <tr>\n",
       "      <th>3</th>\n",
       "      <td>4</td>\n",
       "      <td>NaN</td>\n",
       "      <td>Attended</td>\n",
       "      <td>10</td>\n",
       "      <td>Attended</td>\n",
       "      <td>9</td>\n",
       "      <td>Attended</td>\n",
       "      <td>6</td>\n",
       "      <td>Attended</td>\n",
       "      <td>5</td>\n",
       "      <td>Missed</td>\n",
       "      <td>7</td>\n",
       "      <td>Missed</td>\n",
       "      <td>9</td>\n",
       "      <td>Attended</td>\n",
       "      <td>10</td>\n",
       "      <td>Attended</td>\n",
       "      <td>5</td>\n",
       "      <td>NaN</td>\n",
       "      <td>NaN</td>\n",
       "    </tr>\n",
       "    <tr>\n",
       "      <th>4</th>\n",
       "      <td>5</td>\n",
       "      <td>WORKING</td>\n",
       "      <td>Attended</td>\n",
       "      <td>5</td>\n",
       "      <td>Attended</td>\n",
       "      <td>8</td>\n",
       "      <td>Attended</td>\n",
       "      <td>9</td>\n",
       "      <td>Missed</td>\n",
       "      <td>9</td>\n",
       "      <td>Missed</td>\n",
       "      <td>10</td>\n",
       "      <td>Missed</td>\n",
       "      <td>9</td>\n",
       "      <td>Missed</td>\n",
       "      <td>7</td>\n",
       "      <td>Missed</td>\n",
       "      <td>5</td>\n",
       "      <td>NaN</td>\n",
       "      <td>NaN</td>\n",
       "    </tr>\n",
       "  </tbody>\n",
       "</table>\n",
       "</div>"
      ],
      "text/plain": [
       "   Student Roll Num     Type  10-01-21  R-10-01-21  09-01-21  R-9-01-21  \\\n",
       "0                 1      NaN  Attended          10  Attended         10   \n",
       "1                 2      NaN  Attended           8  Attended          7   \n",
       "2                 3  STUDENT    Missed           9    Missed         10   \n",
       "3                 4      NaN  Attended          10  Attended          9   \n",
       "4                 5  WORKING  Attended           5  Attended          8   \n",
       "\n",
       "   08-01-21  R-8-01-21  07-01-21  R-7-01-21  06-01-21  R-6-01-21  05-01-21  \\\n",
       "0  Attended          7  Attended          9  Attended          8  Attended   \n",
       "1  Attended          9  Attended         10  Attended          5  Attended   \n",
       "2    Missed          5    Missed          8    Missed          7    Missed   \n",
       "3  Attended          6  Attended          5    Missed          7    Missed   \n",
       "4  Attended          9    Missed          9    Missed         10    Missed   \n",
       "\n",
       "   R-5-01-21  04-01-21  R-4-01-21  03-01-21  R-3-01-21  01-01-21  R-01-01-21  \n",
       "0         10  Attended          9    Missed          5       NaN         NaN  \n",
       "1          8  Attended          9  Attended          5       NaN         NaN  \n",
       "2         10    Missed          7    Missed          7       NaN         NaN  \n",
       "3          9  Attended         10  Attended          5       NaN         NaN  \n",
       "4          9    Missed          7    Missed          5       NaN         NaN  "
      ]
     },
     "execution_count": 4,
     "metadata": {},
     "output_type": "execute_result"
    }
   ],
   "source": [
    "class_2.head()"
   ]
  },
  {
   "cell_type": "code",
   "execution_count": 5,
   "metadata": {},
   "outputs": [
    {
     "name": "stdout",
     "output_type": "stream",
     "text": [
      "(57, 22)\n"
     ]
    }
   ],
   "source": [
    "print(class_1.shape)"
   ]
  },
  {
   "cell_type": "code",
   "execution_count": 6,
   "metadata": {},
   "outputs": [
    {
     "name": "stdout",
     "output_type": "stream",
     "text": [
      "(70, 20)\n"
     ]
    }
   ],
   "source": [
    "print(class_2.shape)"
   ]
  },
  {
   "cell_type": "markdown",
   "metadata": {},
   "source": [
    "# Dealing with Class_1 data"
   ]
  },
  {
   "cell_type": "code",
   "execution_count": 7,
   "metadata": {},
   "outputs": [
    {
     "data": {
      "text/plain": [
       "Index(['Student Roll Num', 'Type', '10-01-21', 'R-10-01-21', '09-01-21',\n",
       "       'R-9-01-21', '08-01-21', 'R-8-01-21', '07-01-21', 'R-7-01-21',\n",
       "       '06-01-21', 'R-6-01-21', '05-01-21', 'R-5-01-21', '04-01-21',\n",
       "       'R-4-01-21', '03-01-21', 'R-3-01-21', '02-01-21', 'R-02-01-21',\n",
       "       '01-01-21', 'R-01-01-21'],\n",
       "      dtype='object')"
      ]
     },
     "execution_count": 7,
     "metadata": {},
     "output_type": "execute_result"
    }
   ],
   "source": [
    "class_1.columns"
   ]
  },
  {
   "cell_type": "code",
   "execution_count": 8,
   "metadata": {},
   "outputs": [
    {
     "name": "stdout",
     "output_type": "stream",
     "text": [
      "<class 'pandas.core.frame.DataFrame'>\n",
      "RangeIndex: 57 entries, 0 to 56\n",
      "Data columns (total 22 columns):\n",
      " #   Column            Non-Null Count  Dtype \n",
      "---  ------            --------------  ----- \n",
      " 0   Student Roll Num  57 non-null     int64 \n",
      " 1   Type              32 non-null     object\n",
      " 2   10-01-21          57 non-null     object\n",
      " 3   R-10-01-21        57 non-null     int64 \n",
      " 4   09-01-21          57 non-null     object\n",
      " 5   R-9-01-21         57 non-null     int64 \n",
      " 6   08-01-21          57 non-null     object\n",
      " 7   R-8-01-21         57 non-null     int64 \n",
      " 8   07-01-21          56 non-null     object\n",
      " 9   R-7-01-21         57 non-null     int64 \n",
      " 10  06-01-21          56 non-null     object\n",
      " 11  R-6-01-21         57 non-null     int64 \n",
      " 12  05-01-21          56 non-null     object\n",
      " 13  R-5-01-21         57 non-null     int64 \n",
      " 14  04-01-21          56 non-null     object\n",
      " 15  R-4-01-21         57 non-null     int64 \n",
      " 16  03-01-21          56 non-null     object\n",
      " 17  R-3-01-21         57 non-null     int64 \n",
      " 18  02-01-21          56 non-null     object\n",
      " 19  R-02-01-21        57 non-null     int64 \n",
      " 20  01-01-21          56 non-null     object\n",
      " 21  R-01-01-21        57 non-null     int64 \n",
      "dtypes: int64(11), object(11)\n",
      "memory usage: 9.9+ KB\n"
     ]
    }
   ],
   "source": [
    "class_1.info()"
   ]
  },
  {
   "cell_type": "code",
   "execution_count": 9,
   "metadata": {},
   "outputs": [
    {
     "data": {
      "text/html": [
       "<div>\n",
       "<style scoped>\n",
       "    .dataframe tbody tr th:only-of-type {\n",
       "        vertical-align: middle;\n",
       "    }\n",
       "\n",
       "    .dataframe tbody tr th {\n",
       "        vertical-align: top;\n",
       "    }\n",
       "\n",
       "    .dataframe thead th {\n",
       "        text-align: right;\n",
       "    }\n",
       "</style>\n",
       "<table border=\"1\" class=\"dataframe\">\n",
       "  <thead>\n",
       "    <tr style=\"text-align: right;\">\n",
       "      <th></th>\n",
       "      <th>Student Roll Num</th>\n",
       "      <th>R-10-01-21</th>\n",
       "      <th>R-9-01-21</th>\n",
       "      <th>R-8-01-21</th>\n",
       "      <th>R-7-01-21</th>\n",
       "      <th>R-6-01-21</th>\n",
       "      <th>R-5-01-21</th>\n",
       "      <th>R-4-01-21</th>\n",
       "      <th>R-3-01-21</th>\n",
       "      <th>R-02-01-21</th>\n",
       "      <th>R-01-01-21</th>\n",
       "    </tr>\n",
       "  </thead>\n",
       "  <tbody>\n",
       "    <tr>\n",
       "      <th>count</th>\n",
       "      <td>57.000000</td>\n",
       "      <td>57.000000</td>\n",
       "      <td>57.000000</td>\n",
       "      <td>57.000000</td>\n",
       "      <td>57.000000</td>\n",
       "      <td>57.000000</td>\n",
       "      <td>57.000000</td>\n",
       "      <td>57.000000</td>\n",
       "      <td>57.000000</td>\n",
       "      <td>57.000000</td>\n",
       "      <td>57.000000</td>\n",
       "    </tr>\n",
       "    <tr>\n",
       "      <th>mean</th>\n",
       "      <td>29.000000</td>\n",
       "      <td>7.491228</td>\n",
       "      <td>7.385965</td>\n",
       "      <td>7.807018</td>\n",
       "      <td>7.543860</td>\n",
       "      <td>7.614035</td>\n",
       "      <td>7.631579</td>\n",
       "      <td>7.087719</td>\n",
       "      <td>7.473684</td>\n",
       "      <td>7.719298</td>\n",
       "      <td>7.578947</td>\n",
       "    </tr>\n",
       "    <tr>\n",
       "      <th>std</th>\n",
       "      <td>16.598193</td>\n",
       "      <td>1.637974</td>\n",
       "      <td>1.719161</td>\n",
       "      <td>1.694936</td>\n",
       "      <td>1.909283</td>\n",
       "      <td>1.698259</td>\n",
       "      <td>1.675790</td>\n",
       "      <td>1.755407</td>\n",
       "      <td>1.548101</td>\n",
       "      <td>1.829855</td>\n",
       "      <td>1.636060</td>\n",
       "    </tr>\n",
       "    <tr>\n",
       "      <th>min</th>\n",
       "      <td>1.000000</td>\n",
       "      <td>5.000000</td>\n",
       "      <td>5.000000</td>\n",
       "      <td>5.000000</td>\n",
       "      <td>5.000000</td>\n",
       "      <td>5.000000</td>\n",
       "      <td>5.000000</td>\n",
       "      <td>5.000000</td>\n",
       "      <td>5.000000</td>\n",
       "      <td>5.000000</td>\n",
       "      <td>5.000000</td>\n",
       "    </tr>\n",
       "    <tr>\n",
       "      <th>25%</th>\n",
       "      <td>15.000000</td>\n",
       "      <td>6.000000</td>\n",
       "      <td>6.000000</td>\n",
       "      <td>6.000000</td>\n",
       "      <td>6.000000</td>\n",
       "      <td>6.000000</td>\n",
       "      <td>6.000000</td>\n",
       "      <td>6.000000</td>\n",
       "      <td>6.000000</td>\n",
       "      <td>6.000000</td>\n",
       "      <td>6.000000</td>\n",
       "    </tr>\n",
       "    <tr>\n",
       "      <th>50%</th>\n",
       "      <td>29.000000</td>\n",
       "      <td>7.000000</td>\n",
       "      <td>7.000000</td>\n",
       "      <td>8.000000</td>\n",
       "      <td>7.000000</td>\n",
       "      <td>8.000000</td>\n",
       "      <td>8.000000</td>\n",
       "      <td>7.000000</td>\n",
       "      <td>7.000000</td>\n",
       "      <td>8.000000</td>\n",
       "      <td>8.000000</td>\n",
       "    </tr>\n",
       "    <tr>\n",
       "      <th>75%</th>\n",
       "      <td>43.000000</td>\n",
       "      <td>9.000000</td>\n",
       "      <td>9.000000</td>\n",
       "      <td>9.000000</td>\n",
       "      <td>9.000000</td>\n",
       "      <td>9.000000</td>\n",
       "      <td>9.000000</td>\n",
       "      <td>9.000000</td>\n",
       "      <td>9.000000</td>\n",
       "      <td>9.000000</td>\n",
       "      <td>9.000000</td>\n",
       "    </tr>\n",
       "    <tr>\n",
       "      <th>max</th>\n",
       "      <td>57.000000</td>\n",
       "      <td>10.000000</td>\n",
       "      <td>10.000000</td>\n",
       "      <td>10.000000</td>\n",
       "      <td>10.000000</td>\n",
       "      <td>10.000000</td>\n",
       "      <td>10.000000</td>\n",
       "      <td>10.000000</td>\n",
       "      <td>10.000000</td>\n",
       "      <td>10.000000</td>\n",
       "      <td>10.000000</td>\n",
       "    </tr>\n",
       "  </tbody>\n",
       "</table>\n",
       "</div>"
      ],
      "text/plain": [
       "       Student Roll Num  R-10-01-21  R-9-01-21  R-8-01-21  R-7-01-21  \\\n",
       "count         57.000000   57.000000  57.000000  57.000000  57.000000   \n",
       "mean          29.000000    7.491228   7.385965   7.807018   7.543860   \n",
       "std           16.598193    1.637974   1.719161   1.694936   1.909283   \n",
       "min            1.000000    5.000000   5.000000   5.000000   5.000000   \n",
       "25%           15.000000    6.000000   6.000000   6.000000   6.000000   \n",
       "50%           29.000000    7.000000   7.000000   8.000000   7.000000   \n",
       "75%           43.000000    9.000000   9.000000   9.000000   9.000000   \n",
       "max           57.000000   10.000000  10.000000  10.000000  10.000000   \n",
       "\n",
       "       R-6-01-21  R-5-01-21  R-4-01-21  R-3-01-21  R-02-01-21  R-01-01-21  \n",
       "count  57.000000  57.000000  57.000000  57.000000   57.000000   57.000000  \n",
       "mean    7.614035   7.631579   7.087719   7.473684    7.719298    7.578947  \n",
       "std     1.698259   1.675790   1.755407   1.548101    1.829855    1.636060  \n",
       "min     5.000000   5.000000   5.000000   5.000000    5.000000    5.000000  \n",
       "25%     6.000000   6.000000   6.000000   6.000000    6.000000    6.000000  \n",
       "50%     8.000000   8.000000   7.000000   7.000000    8.000000    8.000000  \n",
       "75%     9.000000   9.000000   9.000000   9.000000    9.000000    9.000000  \n",
       "max    10.000000  10.000000  10.000000  10.000000   10.000000   10.000000  "
      ]
     },
     "execution_count": 9,
     "metadata": {},
     "output_type": "execute_result"
    }
   ],
   "source": [
    "class_1.describe()"
   ]
  },
  {
   "cell_type": "code",
   "execution_count": 10,
   "metadata": {},
   "outputs": [
    {
     "data": {
      "text/plain": [
       "Type         25\n",
       "06-01-21      1\n",
       "02-01-21      1\n",
       "03-01-21      1\n",
       "04-01-21      1\n",
       "05-01-21      1\n",
       "01-01-21      1\n",
       "07-01-21      1\n",
       "R-8-01-21     0\n",
       "10-01-21      0\n",
       "dtype: int64"
      ]
     },
     "execution_count": 10,
     "metadata": {},
     "output_type": "execute_result"
    }
   ],
   "source": [
    "class_1.isnull().sum().sort_values(ascending=False).head(10)"
   ]
  },
  {
   "cell_type": "markdown",
   "metadata": {},
   "source": [
    "# Handling null values"
   ]
  },
  {
   "cell_type": "code",
   "execution_count": 11,
   "metadata": {},
   "outputs": [],
   "source": [
    "class_1[\"01-01-21\"].fillna(class_1[\"01-01-21\"].mode()[0], inplace=True)"
   ]
  },
  {
   "cell_type": "code",
   "execution_count": 12,
   "metadata": {},
   "outputs": [],
   "source": [
    "class_1[\"02-01-21\"].fillna(class_1[\"02-01-21\"].mode()[0], inplace=True)"
   ]
  },
  {
   "cell_type": "code",
   "execution_count": 13,
   "metadata": {},
   "outputs": [],
   "source": [
    "class_1[\"03-01-21\"].fillna(class_1[\"03-01-21\"].mode()[0], inplace=True)"
   ]
  },
  {
   "cell_type": "code",
   "execution_count": 14,
   "metadata": {},
   "outputs": [],
   "source": [
    "class_1[\"04-01-21\"].fillna(class_1[\"04-01-21\"].mode()[0], inplace=True)"
   ]
  },
  {
   "cell_type": "code",
   "execution_count": 15,
   "metadata": {},
   "outputs": [],
   "source": [
    "class_1[\"05-01-21\"].fillna(class_1[\"05-01-21\"].mode()[0], inplace=True)"
   ]
  },
  {
   "cell_type": "code",
   "execution_count": 16,
   "metadata": {},
   "outputs": [],
   "source": [
    "class_1[\"06-01-21\"].fillna(class_1[\"06-01-21\"].mode()[0], inplace=True)"
   ]
  },
  {
   "cell_type": "code",
   "execution_count": 17,
   "metadata": {},
   "outputs": [],
   "source": [
    "class_1[\"07-01-21\"].fillna(class_1[\"07-01-21\"].mode()[0], inplace=True)"
   ]
  },
  {
   "cell_type": "code",
   "execution_count": 18,
   "metadata": {},
   "outputs": [],
   "source": [
    "class_1['Type'].fillna(class_1['Type'].mode()[0], inplace=True)"
   ]
  },
  {
   "cell_type": "code",
   "execution_count": 19,
   "metadata": {},
   "outputs": [
    {
     "data": {
      "text/plain": [
       "R-01-01-21    0\n",
       "01-01-21      0\n",
       "Type          0\n",
       "10-01-21      0\n",
       "R-10-01-21    0\n",
       "09-01-21      0\n",
       "R-9-01-21     0\n",
       "08-01-21      0\n",
       "R-8-01-21     0\n",
       "07-01-21      0\n",
       "dtype: int64"
      ]
     },
     "execution_count": 19,
     "metadata": {},
     "output_type": "execute_result"
    }
   ],
   "source": [
    "class_1.isnull().sum().sort_values(ascending=False).head(10)"
   ]
  },
  {
   "cell_type": "code",
   "execution_count": 20,
   "metadata": {},
   "outputs": [
    {
     "data": {
      "text/html": [
       "<div>\n",
       "<style scoped>\n",
       "    .dataframe tbody tr th:only-of-type {\n",
       "        vertical-align: middle;\n",
       "    }\n",
       "\n",
       "    .dataframe tbody tr th {\n",
       "        vertical-align: top;\n",
       "    }\n",
       "\n",
       "    .dataframe thead th {\n",
       "        text-align: right;\n",
       "    }\n",
       "</style>\n",
       "<table border=\"1\" class=\"dataframe\">\n",
       "  <thead>\n",
       "    <tr style=\"text-align: right;\">\n",
       "      <th></th>\n",
       "      <th>Student Roll Num</th>\n",
       "      <th>Type</th>\n",
       "      <th>10-01-21</th>\n",
       "      <th>R-10-01-21</th>\n",
       "      <th>09-01-21</th>\n",
       "      <th>R-9-01-21</th>\n",
       "      <th>08-01-21</th>\n",
       "      <th>R-8-01-21</th>\n",
       "      <th>07-01-21</th>\n",
       "      <th>R-7-01-21</th>\n",
       "      <th>...</th>\n",
       "      <th>05-01-21</th>\n",
       "      <th>R-5-01-21</th>\n",
       "      <th>04-01-21</th>\n",
       "      <th>R-4-01-21</th>\n",
       "      <th>03-01-21</th>\n",
       "      <th>R-3-01-21</th>\n",
       "      <th>02-01-21</th>\n",
       "      <th>R-02-01-21</th>\n",
       "      <th>01-01-21</th>\n",
       "      <th>R-01-01-21</th>\n",
       "    </tr>\n",
       "  </thead>\n",
       "  <tbody>\n",
       "    <tr>\n",
       "      <th>0</th>\n",
       "      <td>1</td>\n",
       "      <td>WORKING</td>\n",
       "      <td>Missed</td>\n",
       "      <td>6</td>\n",
       "      <td>Missed</td>\n",
       "      <td>10</td>\n",
       "      <td>Missed</td>\n",
       "      <td>5</td>\n",
       "      <td>Missed</td>\n",
       "      <td>6</td>\n",
       "      <td>...</td>\n",
       "      <td>Missed</td>\n",
       "      <td>6</td>\n",
       "      <td>Missed</td>\n",
       "      <td>8</td>\n",
       "      <td>Missed</td>\n",
       "      <td>9</td>\n",
       "      <td>Missed</td>\n",
       "      <td>10</td>\n",
       "      <td>Missed</td>\n",
       "      <td>10</td>\n",
       "    </tr>\n",
       "    <tr>\n",
       "      <th>1</th>\n",
       "      <td>2</td>\n",
       "      <td>STUDENT</td>\n",
       "      <td>Missed</td>\n",
       "      <td>10</td>\n",
       "      <td>Missed</td>\n",
       "      <td>10</td>\n",
       "      <td>Missed</td>\n",
       "      <td>6</td>\n",
       "      <td>Attended</td>\n",
       "      <td>9</td>\n",
       "      <td>...</td>\n",
       "      <td>Attended</td>\n",
       "      <td>8</td>\n",
       "      <td>Attended</td>\n",
       "      <td>6</td>\n",
       "      <td>Missed</td>\n",
       "      <td>7</td>\n",
       "      <td>Attended</td>\n",
       "      <td>10</td>\n",
       "      <td>Missed</td>\n",
       "      <td>8</td>\n",
       "    </tr>\n",
       "    <tr>\n",
       "      <th>2</th>\n",
       "      <td>3</td>\n",
       "      <td>STUDENT</td>\n",
       "      <td>Missed</td>\n",
       "      <td>10</td>\n",
       "      <td>Missed</td>\n",
       "      <td>8</td>\n",
       "      <td>Missed</td>\n",
       "      <td>9</td>\n",
       "      <td>Missed</td>\n",
       "      <td>9</td>\n",
       "      <td>...</td>\n",
       "      <td>Attended</td>\n",
       "      <td>9</td>\n",
       "      <td>Missed</td>\n",
       "      <td>7</td>\n",
       "      <td>Missed</td>\n",
       "      <td>7</td>\n",
       "      <td>Attended</td>\n",
       "      <td>5</td>\n",
       "      <td>Attended</td>\n",
       "      <td>6</td>\n",
       "    </tr>\n",
       "    <tr>\n",
       "      <th>3</th>\n",
       "      <td>4</td>\n",
       "      <td>STUDENT</td>\n",
       "      <td>Missed</td>\n",
       "      <td>10</td>\n",
       "      <td>Missed</td>\n",
       "      <td>8</td>\n",
       "      <td>Attended</td>\n",
       "      <td>10</td>\n",
       "      <td>Missed</td>\n",
       "      <td>6</td>\n",
       "      <td>...</td>\n",
       "      <td>Missed</td>\n",
       "      <td>6</td>\n",
       "      <td>Attended</td>\n",
       "      <td>9</td>\n",
       "      <td>Attended</td>\n",
       "      <td>8</td>\n",
       "      <td>Attended</td>\n",
       "      <td>8</td>\n",
       "      <td>Attended</td>\n",
       "      <td>7</td>\n",
       "    </tr>\n",
       "    <tr>\n",
       "      <th>4</th>\n",
       "      <td>5</td>\n",
       "      <td>WORKING</td>\n",
       "      <td>Missed</td>\n",
       "      <td>10</td>\n",
       "      <td>Missed</td>\n",
       "      <td>6</td>\n",
       "      <td>Missed</td>\n",
       "      <td>8</td>\n",
       "      <td>Missed</td>\n",
       "      <td>9</td>\n",
       "      <td>...</td>\n",
       "      <td>Missed</td>\n",
       "      <td>7</td>\n",
       "      <td>Missed</td>\n",
       "      <td>10</td>\n",
       "      <td>Missed</td>\n",
       "      <td>5</td>\n",
       "      <td>Missed</td>\n",
       "      <td>8</td>\n",
       "      <td>Missed</td>\n",
       "      <td>10</td>\n",
       "    </tr>\n",
       "  </tbody>\n",
       "</table>\n",
       "<p>5 rows × 22 columns</p>\n",
       "</div>"
      ],
      "text/plain": [
       "   Student Roll Num     Type 10-01-21  R-10-01-21 09-01-21  R-9-01-21  \\\n",
       "0                 1  WORKING   Missed           6   Missed         10   \n",
       "1                 2  STUDENT   Missed          10   Missed         10   \n",
       "2                 3  STUDENT   Missed          10   Missed          8   \n",
       "3                 4  STUDENT   Missed          10   Missed          8   \n",
       "4                 5  WORKING   Missed          10   Missed          6   \n",
       "\n",
       "   08-01-21  R-8-01-21  07-01-21  R-7-01-21  ...  05-01-21  R-5-01-21  \\\n",
       "0    Missed          5    Missed          6  ...    Missed          6   \n",
       "1    Missed          6  Attended          9  ...  Attended          8   \n",
       "2    Missed          9    Missed          9  ...  Attended          9   \n",
       "3  Attended         10    Missed          6  ...    Missed          6   \n",
       "4    Missed          8    Missed          9  ...    Missed          7   \n",
       "\n",
       "   04-01-21  R-4-01-21  03-01-21  R-3-01-21  02-01-21  R-02-01-21  01-01-21  \\\n",
       "0    Missed          8    Missed          9    Missed          10    Missed   \n",
       "1  Attended          6    Missed          7  Attended          10    Missed   \n",
       "2    Missed          7    Missed          7  Attended           5  Attended   \n",
       "3  Attended          9  Attended          8  Attended           8  Attended   \n",
       "4    Missed         10    Missed          5    Missed           8    Missed   \n",
       "\n",
       "   R-01-01-21  \n",
       "0          10  \n",
       "1           8  \n",
       "2           6  \n",
       "3           7  \n",
       "4          10  \n",
       "\n",
       "[5 rows x 22 columns]"
      ]
     },
     "execution_count": 20,
     "metadata": {},
     "output_type": "execute_result"
    }
   ],
   "source": [
    "class_1.head()"
   ]
  },
  {
   "cell_type": "markdown",
   "metadata": {},
   "source": [
    "# Dealing with Class_1 data"
   ]
  },
  {
   "cell_type": "code",
   "execution_count": 21,
   "metadata": {},
   "outputs": [
    {
     "data": {
      "text/html": [
       "<div>\n",
       "<style scoped>\n",
       "    .dataframe tbody tr th:only-of-type {\n",
       "        vertical-align: middle;\n",
       "    }\n",
       "\n",
       "    .dataframe tbody tr th {\n",
       "        vertical-align: top;\n",
       "    }\n",
       "\n",
       "    .dataframe thead th {\n",
       "        text-align: right;\n",
       "    }\n",
       "</style>\n",
       "<table border=\"1\" class=\"dataframe\">\n",
       "  <thead>\n",
       "    <tr style=\"text-align: right;\">\n",
       "      <th></th>\n",
       "      <th>Student Roll Num</th>\n",
       "      <th>Type</th>\n",
       "      <th>10-01-21</th>\n",
       "      <th>R-10-01-21</th>\n",
       "      <th>09-01-21</th>\n",
       "      <th>R-9-01-21</th>\n",
       "      <th>08-01-21</th>\n",
       "      <th>R-8-01-21</th>\n",
       "      <th>07-01-21</th>\n",
       "      <th>R-7-01-21</th>\n",
       "      <th>06-01-21</th>\n",
       "      <th>R-6-01-21</th>\n",
       "      <th>05-01-21</th>\n",
       "      <th>R-5-01-21</th>\n",
       "      <th>04-01-21</th>\n",
       "      <th>R-4-01-21</th>\n",
       "      <th>03-01-21</th>\n",
       "      <th>R-3-01-21</th>\n",
       "      <th>01-01-21</th>\n",
       "      <th>R-01-01-21</th>\n",
       "    </tr>\n",
       "  </thead>\n",
       "  <tbody>\n",
       "    <tr>\n",
       "      <th>0</th>\n",
       "      <td>1</td>\n",
       "      <td>NaN</td>\n",
       "      <td>Attended</td>\n",
       "      <td>10</td>\n",
       "      <td>Attended</td>\n",
       "      <td>10</td>\n",
       "      <td>Attended</td>\n",
       "      <td>7</td>\n",
       "      <td>Attended</td>\n",
       "      <td>9</td>\n",
       "      <td>Attended</td>\n",
       "      <td>8</td>\n",
       "      <td>Attended</td>\n",
       "      <td>10</td>\n",
       "      <td>Attended</td>\n",
       "      <td>9</td>\n",
       "      <td>Missed</td>\n",
       "      <td>5</td>\n",
       "      <td>NaN</td>\n",
       "      <td>NaN</td>\n",
       "    </tr>\n",
       "    <tr>\n",
       "      <th>1</th>\n",
       "      <td>2</td>\n",
       "      <td>NaN</td>\n",
       "      <td>Attended</td>\n",
       "      <td>8</td>\n",
       "      <td>Attended</td>\n",
       "      <td>7</td>\n",
       "      <td>Attended</td>\n",
       "      <td>9</td>\n",
       "      <td>Attended</td>\n",
       "      <td>10</td>\n",
       "      <td>Attended</td>\n",
       "      <td>5</td>\n",
       "      <td>Attended</td>\n",
       "      <td>8</td>\n",
       "      <td>Attended</td>\n",
       "      <td>9</td>\n",
       "      <td>Attended</td>\n",
       "      <td>5</td>\n",
       "      <td>NaN</td>\n",
       "      <td>NaN</td>\n",
       "    </tr>\n",
       "    <tr>\n",
       "      <th>2</th>\n",
       "      <td>3</td>\n",
       "      <td>STUDENT</td>\n",
       "      <td>Missed</td>\n",
       "      <td>9</td>\n",
       "      <td>Missed</td>\n",
       "      <td>10</td>\n",
       "      <td>Missed</td>\n",
       "      <td>5</td>\n",
       "      <td>Missed</td>\n",
       "      <td>8</td>\n",
       "      <td>Missed</td>\n",
       "      <td>7</td>\n",
       "      <td>Missed</td>\n",
       "      <td>10</td>\n",
       "      <td>Missed</td>\n",
       "      <td>7</td>\n",
       "      <td>Missed</td>\n",
       "      <td>7</td>\n",
       "      <td>NaN</td>\n",
       "      <td>NaN</td>\n",
       "    </tr>\n",
       "    <tr>\n",
       "      <th>3</th>\n",
       "      <td>4</td>\n",
       "      <td>NaN</td>\n",
       "      <td>Attended</td>\n",
       "      <td>10</td>\n",
       "      <td>Attended</td>\n",
       "      <td>9</td>\n",
       "      <td>Attended</td>\n",
       "      <td>6</td>\n",
       "      <td>Attended</td>\n",
       "      <td>5</td>\n",
       "      <td>Missed</td>\n",
       "      <td>7</td>\n",
       "      <td>Missed</td>\n",
       "      <td>9</td>\n",
       "      <td>Attended</td>\n",
       "      <td>10</td>\n",
       "      <td>Attended</td>\n",
       "      <td>5</td>\n",
       "      <td>NaN</td>\n",
       "      <td>NaN</td>\n",
       "    </tr>\n",
       "    <tr>\n",
       "      <th>4</th>\n",
       "      <td>5</td>\n",
       "      <td>WORKING</td>\n",
       "      <td>Attended</td>\n",
       "      <td>5</td>\n",
       "      <td>Attended</td>\n",
       "      <td>8</td>\n",
       "      <td>Attended</td>\n",
       "      <td>9</td>\n",
       "      <td>Missed</td>\n",
       "      <td>9</td>\n",
       "      <td>Missed</td>\n",
       "      <td>10</td>\n",
       "      <td>Missed</td>\n",
       "      <td>9</td>\n",
       "      <td>Missed</td>\n",
       "      <td>7</td>\n",
       "      <td>Missed</td>\n",
       "      <td>5</td>\n",
       "      <td>NaN</td>\n",
       "      <td>NaN</td>\n",
       "    </tr>\n",
       "  </tbody>\n",
       "</table>\n",
       "</div>"
      ],
      "text/plain": [
       "   Student Roll Num     Type  10-01-21  R-10-01-21  09-01-21  R-9-01-21  \\\n",
       "0                 1      NaN  Attended          10  Attended         10   \n",
       "1                 2      NaN  Attended           8  Attended          7   \n",
       "2                 3  STUDENT    Missed           9    Missed         10   \n",
       "3                 4      NaN  Attended          10  Attended          9   \n",
       "4                 5  WORKING  Attended           5  Attended          8   \n",
       "\n",
       "   08-01-21  R-8-01-21  07-01-21  R-7-01-21  06-01-21  R-6-01-21  05-01-21  \\\n",
       "0  Attended          7  Attended          9  Attended          8  Attended   \n",
       "1  Attended          9  Attended         10  Attended          5  Attended   \n",
       "2    Missed          5    Missed          8    Missed          7    Missed   \n",
       "3  Attended          6  Attended          5    Missed          7    Missed   \n",
       "4  Attended          9    Missed          9    Missed         10    Missed   \n",
       "\n",
       "   R-5-01-21  04-01-21  R-4-01-21  03-01-21  R-3-01-21  01-01-21  R-01-01-21  \n",
       "0         10  Attended          9    Missed          5       NaN         NaN  \n",
       "1          8  Attended          9  Attended          5       NaN         NaN  \n",
       "2         10    Missed          7    Missed          7       NaN         NaN  \n",
       "3          9  Attended         10  Attended          5       NaN         NaN  \n",
       "4          9    Missed          7    Missed          5       NaN         NaN  "
      ]
     },
     "execution_count": 21,
     "metadata": {},
     "output_type": "execute_result"
    }
   ],
   "source": [
    "class_2.head()"
   ]
  },
  {
   "cell_type": "code",
   "execution_count": 22,
   "metadata": {},
   "outputs": [
    {
     "name": "stdout",
     "output_type": "stream",
     "text": [
      "<class 'pandas.core.frame.DataFrame'>\n",
      "RangeIndex: 70 entries, 0 to 69\n",
      "Data columns (total 20 columns):\n",
      " #   Column            Non-Null Count  Dtype  \n",
      "---  ------            --------------  -----  \n",
      " 0   Student Roll Num  70 non-null     int64  \n",
      " 1   Type              30 non-null     object \n",
      " 2   10-01-21          70 non-null     object \n",
      " 3   R-10-01-21        70 non-null     int64  \n",
      " 4   09-01-21          70 non-null     object \n",
      " 5   R-9-01-21         70 non-null     int64  \n",
      " 6   08-01-21          70 non-null     object \n",
      " 7   R-8-01-21         70 non-null     int64  \n",
      " 8   07-01-21          69 non-null     object \n",
      " 9   R-7-01-21         70 non-null     int64  \n",
      " 10  06-01-21          69 non-null     object \n",
      " 11  R-6-01-21         70 non-null     int64  \n",
      " 12  05-01-21          69 non-null     object \n",
      " 13  R-5-01-21         70 non-null     int64  \n",
      " 14  04-01-21          69 non-null     object \n",
      " 15  R-4-01-21         70 non-null     int64  \n",
      " 16  03-01-21          67 non-null     object \n",
      " 17  R-3-01-21         70 non-null     int64  \n",
      " 18  01-01-21          0 non-null      float64\n",
      " 19  R-01-01-21        0 non-null      float64\n",
      "dtypes: float64(2), int64(9), object(9)\n",
      "memory usage: 11.1+ KB\n"
     ]
    }
   ],
   "source": [
    "class_2.info()"
   ]
  },
  {
   "cell_type": "code",
   "execution_count": 23,
   "metadata": {},
   "outputs": [
    {
     "data": {
      "text/html": [
       "<div>\n",
       "<style scoped>\n",
       "    .dataframe tbody tr th:only-of-type {\n",
       "        vertical-align: middle;\n",
       "    }\n",
       "\n",
       "    .dataframe tbody tr th {\n",
       "        vertical-align: top;\n",
       "    }\n",
       "\n",
       "    .dataframe thead th {\n",
       "        text-align: right;\n",
       "    }\n",
       "</style>\n",
       "<table border=\"1\" class=\"dataframe\">\n",
       "  <thead>\n",
       "    <tr style=\"text-align: right;\">\n",
       "      <th></th>\n",
       "      <th>Student Roll Num</th>\n",
       "      <th>R-10-01-21</th>\n",
       "      <th>R-9-01-21</th>\n",
       "      <th>R-8-01-21</th>\n",
       "      <th>R-7-01-21</th>\n",
       "      <th>R-6-01-21</th>\n",
       "      <th>R-5-01-21</th>\n",
       "      <th>R-4-01-21</th>\n",
       "      <th>R-3-01-21</th>\n",
       "      <th>01-01-21</th>\n",
       "      <th>R-01-01-21</th>\n",
       "    </tr>\n",
       "  </thead>\n",
       "  <tbody>\n",
       "    <tr>\n",
       "      <th>count</th>\n",
       "      <td>70.000000</td>\n",
       "      <td>70.000000</td>\n",
       "      <td>70.000000</td>\n",
       "      <td>70.000000</td>\n",
       "      <td>70.000000</td>\n",
       "      <td>70.000000</td>\n",
       "      <td>70.000000</td>\n",
       "      <td>70.000000</td>\n",
       "      <td>70.000000</td>\n",
       "      <td>0.0</td>\n",
       "      <td>0.0</td>\n",
       "    </tr>\n",
       "    <tr>\n",
       "      <th>mean</th>\n",
       "      <td>35.500000</td>\n",
       "      <td>7.614286</td>\n",
       "      <td>7.728571</td>\n",
       "      <td>7.571429</td>\n",
       "      <td>6.971429</td>\n",
       "      <td>7.571429</td>\n",
       "      <td>8.085714</td>\n",
       "      <td>7.642857</td>\n",
       "      <td>7.685714</td>\n",
       "      <td>NaN</td>\n",
       "      <td>NaN</td>\n",
       "    </tr>\n",
       "    <tr>\n",
       "      <th>std</th>\n",
       "      <td>20.351085</td>\n",
       "      <td>1.599754</td>\n",
       "      <td>1.676102</td>\n",
       "      <td>1.724264</td>\n",
       "      <td>1.801541</td>\n",
       "      <td>1.584082</td>\n",
       "      <td>1.791630</td>\n",
       "      <td>1.826025</td>\n",
       "      <td>1.869223</td>\n",
       "      <td>NaN</td>\n",
       "      <td>NaN</td>\n",
       "    </tr>\n",
       "    <tr>\n",
       "      <th>min</th>\n",
       "      <td>1.000000</td>\n",
       "      <td>5.000000</td>\n",
       "      <td>5.000000</td>\n",
       "      <td>5.000000</td>\n",
       "      <td>5.000000</td>\n",
       "      <td>5.000000</td>\n",
       "      <td>5.000000</td>\n",
       "      <td>5.000000</td>\n",
       "      <td>5.000000</td>\n",
       "      <td>NaN</td>\n",
       "      <td>NaN</td>\n",
       "    </tr>\n",
       "    <tr>\n",
       "      <th>25%</th>\n",
       "      <td>18.250000</td>\n",
       "      <td>6.250000</td>\n",
       "      <td>7.000000</td>\n",
       "      <td>6.000000</td>\n",
       "      <td>5.000000</td>\n",
       "      <td>6.000000</td>\n",
       "      <td>6.250000</td>\n",
       "      <td>6.000000</td>\n",
       "      <td>6.000000</td>\n",
       "      <td>NaN</td>\n",
       "      <td>NaN</td>\n",
       "    </tr>\n",
       "    <tr>\n",
       "      <th>50%</th>\n",
       "      <td>35.500000</td>\n",
       "      <td>8.000000</td>\n",
       "      <td>8.000000</td>\n",
       "      <td>8.000000</td>\n",
       "      <td>7.000000</td>\n",
       "      <td>7.000000</td>\n",
       "      <td>8.000000</td>\n",
       "      <td>8.000000</td>\n",
       "      <td>8.000000</td>\n",
       "      <td>NaN</td>\n",
       "      <td>NaN</td>\n",
       "    </tr>\n",
       "    <tr>\n",
       "      <th>75%</th>\n",
       "      <td>52.750000</td>\n",
       "      <td>8.750000</td>\n",
       "      <td>9.000000</td>\n",
       "      <td>9.000000</td>\n",
       "      <td>8.000000</td>\n",
       "      <td>9.000000</td>\n",
       "      <td>10.000000</td>\n",
       "      <td>9.000000</td>\n",
       "      <td>10.000000</td>\n",
       "      <td>NaN</td>\n",
       "      <td>NaN</td>\n",
       "    </tr>\n",
       "    <tr>\n",
       "      <th>max</th>\n",
       "      <td>70.000000</td>\n",
       "      <td>10.000000</td>\n",
       "      <td>10.000000</td>\n",
       "      <td>10.000000</td>\n",
       "      <td>10.000000</td>\n",
       "      <td>10.000000</td>\n",
       "      <td>10.000000</td>\n",
       "      <td>10.000000</td>\n",
       "      <td>10.000000</td>\n",
       "      <td>NaN</td>\n",
       "      <td>NaN</td>\n",
       "    </tr>\n",
       "  </tbody>\n",
       "</table>\n",
       "</div>"
      ],
      "text/plain": [
       "       Student Roll Num  R-10-01-21  R-9-01-21  R-8-01-21  R-7-01-21  \\\n",
       "count         70.000000   70.000000  70.000000  70.000000  70.000000   \n",
       "mean          35.500000    7.614286   7.728571   7.571429   6.971429   \n",
       "std           20.351085    1.599754   1.676102   1.724264   1.801541   \n",
       "min            1.000000    5.000000   5.000000   5.000000   5.000000   \n",
       "25%           18.250000    6.250000   7.000000   6.000000   5.000000   \n",
       "50%           35.500000    8.000000   8.000000   8.000000   7.000000   \n",
       "75%           52.750000    8.750000   9.000000   9.000000   8.000000   \n",
       "max           70.000000   10.000000  10.000000  10.000000  10.000000   \n",
       "\n",
       "       R-6-01-21  R-5-01-21  R-4-01-21  R-3-01-21  01-01-21  R-01-01-21  \n",
       "count  70.000000  70.000000  70.000000  70.000000       0.0         0.0  \n",
       "mean    7.571429   8.085714   7.642857   7.685714       NaN         NaN  \n",
       "std     1.584082   1.791630   1.826025   1.869223       NaN         NaN  \n",
       "min     5.000000   5.000000   5.000000   5.000000       NaN         NaN  \n",
       "25%     6.000000   6.250000   6.000000   6.000000       NaN         NaN  \n",
       "50%     7.000000   8.000000   8.000000   8.000000       NaN         NaN  \n",
       "75%     9.000000  10.000000   9.000000  10.000000       NaN         NaN  \n",
       "max    10.000000  10.000000  10.000000  10.000000       NaN         NaN  "
      ]
     },
     "execution_count": 23,
     "metadata": {},
     "output_type": "execute_result"
    }
   ],
   "source": [
    "class_2.describe()"
   ]
  },
  {
   "cell_type": "code",
   "execution_count": 24,
   "metadata": {},
   "outputs": [
    {
     "data": {
      "text/plain": [
       "R-01-01-21    70\n",
       "01-01-21      70\n",
       "Type          40\n",
       "03-01-21       3\n",
       "04-01-21       1\n",
       "05-01-21       1\n",
       "06-01-21       1\n",
       "07-01-21       1\n",
       "08-01-21       0\n",
       "10-01-21       0\n",
       "dtype: int64"
      ]
     },
     "execution_count": 24,
     "metadata": {},
     "output_type": "execute_result"
    }
   ],
   "source": [
    "class_2.isnull().sum().sort_values(ascending=False).head(10)"
   ]
  },
  {
   "cell_type": "markdown",
   "metadata": {},
   "source": [
    "# Handling Null Values"
   ]
  },
  {
   "cell_type": "code",
   "execution_count": 25,
   "metadata": {},
   "outputs": [],
   "source": [
    "class_2['03-01-21'].fillna(class_2['03-01-21'].mode()[0], inplace=True)"
   ]
  },
  {
   "cell_type": "code",
   "execution_count": 26,
   "metadata": {},
   "outputs": [],
   "source": [
    "class_2['04-01-21'].fillna(class_2['04-01-21'].mode()[0], inplace=True)"
   ]
  },
  {
   "cell_type": "code",
   "execution_count": 27,
   "metadata": {},
   "outputs": [],
   "source": [
    "class_2['05-01-21'].fillna(class_2['05-01-21'].mode()[0], inplace=True)"
   ]
  },
  {
   "cell_type": "code",
   "execution_count": 28,
   "metadata": {},
   "outputs": [],
   "source": [
    "class_2['06-01-21'].fillna(class_2['06-01-21'].mode()[0], inplace=True)"
   ]
  },
  {
   "cell_type": "code",
   "execution_count": 29,
   "metadata": {},
   "outputs": [],
   "source": [
    "class_2['07-01-21'].fillna(class_2['07-01-21'].mode()[0], inplace=True)"
   ]
  },
  {
   "cell_type": "code",
   "execution_count": 30,
   "metadata": {},
   "outputs": [],
   "source": [
    "class_2['Type'].fillna(class_2['Type'].mode()[0], inplace=True)"
   ]
  },
  {
   "cell_type": "code",
   "execution_count": 31,
   "metadata": {},
   "outputs": [
    {
     "data": {
      "text/plain": [
       "R-01-01-21    70\n",
       "01-01-21      70\n",
       "Type           0\n",
       "10-01-21       0\n",
       "R-10-01-21     0\n",
       "09-01-21       0\n",
       "R-9-01-21      0\n",
       "08-01-21       0\n",
       "R-8-01-21      0\n",
       "07-01-21       0\n",
       "dtype: int64"
      ]
     },
     "execution_count": 31,
     "metadata": {},
     "output_type": "execute_result"
    }
   ],
   "source": [
    "class_2.isnull().sum().sort_values(ascending=False).head(10)"
   ]
  },
  {
   "cell_type": "markdown",
   "metadata": {},
   "source": [
    "# Merge the files"
   ]
  },
  {
   "cell_type": "code",
   "execution_count": 32,
   "metadata": {},
   "outputs": [
    {
     "data": {
      "text/plain": [
       "Index(['Student Roll Num', 'Type', '10-01-21', 'R-10-01-21', '09-01-21',\n",
       "       'R-9-01-21', '08-01-21', 'R-8-01-21', '07-01-21', 'R-7-01-21',\n",
       "       '06-01-21', 'R-6-01-21', '05-01-21', 'R-5-01-21', '04-01-21',\n",
       "       'R-4-01-21', '03-01-21', 'R-3-01-21', '02-01-21', 'R-02-01-21',\n",
       "       '01-01-21', 'R-01-01-21'],\n",
       "      dtype='object')"
      ]
     },
     "execution_count": 32,
     "metadata": {},
     "output_type": "execute_result"
    }
   ],
   "source": [
    "class_1.columns"
   ]
  },
  {
   "cell_type": "code",
   "execution_count": 33,
   "metadata": {},
   "outputs": [],
   "source": [
    "df = pd.concat([class_1, class_2])"
   ]
  },
  {
   "cell_type": "code",
   "execution_count": 34,
   "metadata": {},
   "outputs": [
    {
     "data": {
      "text/plain": [
       "Index(['Student Roll Num', 'Type', '10-01-21', 'R-10-01-21', '09-01-21',\n",
       "       'R-9-01-21', '08-01-21', 'R-8-01-21', '07-01-21', 'R-7-01-21',\n",
       "       '06-01-21', 'R-6-01-21', '05-01-21', 'R-5-01-21', '04-01-21',\n",
       "       'R-4-01-21', '03-01-21', 'R-3-01-21', '02-01-21', 'R-02-01-21',\n",
       "       '01-01-21', 'R-01-01-21'],\n",
       "      dtype='object')"
      ]
     },
     "execution_count": 34,
     "metadata": {},
     "output_type": "execute_result"
    }
   ],
   "source": [
    "df.columns"
   ]
  },
  {
   "cell_type": "code",
   "execution_count": 35,
   "metadata": {},
   "outputs": [
    {
     "data": {
      "text/plain": [
       "(127, 22)"
      ]
     },
     "execution_count": 35,
     "metadata": {},
     "output_type": "execute_result"
    }
   ],
   "source": [
    "df.shape"
   ]
  },
  {
   "cell_type": "code",
   "execution_count": 36,
   "metadata": {},
   "outputs": [],
   "source": [
    "df.fillna(0,inplace=True)"
   ]
  },
  {
   "cell_type": "code",
   "execution_count": 37,
   "metadata": {},
   "outputs": [
    {
     "data": {
      "text/plain": [
       "Student Roll Num    0\n",
       "Type                0\n",
       "10-01-21            0\n",
       "R-10-01-21          0\n",
       "09-01-21            0\n",
       "R-9-01-21           0\n",
       "08-01-21            0\n",
       "R-8-01-21           0\n",
       "07-01-21            0\n",
       "R-7-01-21           0\n",
       "06-01-21            0\n",
       "R-6-01-21           0\n",
       "05-01-21            0\n",
       "R-5-01-21           0\n",
       "04-01-21            0\n",
       "R-4-01-21           0\n",
       "03-01-21            0\n",
       "R-3-01-21           0\n",
       "02-01-21            0\n",
       "R-02-01-21          0\n",
       "01-01-21            0\n",
       "R-01-01-21          0\n",
       "dtype: int64"
      ]
     },
     "execution_count": 37,
     "metadata": {},
     "output_type": "execute_result"
    }
   ],
   "source": [
    "df.isna().sum()"
   ]
  },
  {
   "cell_type": "markdown",
   "metadata": {},
   "source": [
    "# Visualization"
   ]
  },
  {
   "cell_type": "code",
   "execution_count": 38,
   "metadata": {},
   "outputs": [],
   "source": [
    "df['Attended_Count'] = df[df == 'Attended'].count(axis=1)\n",
    "df['Missed_Count'] = df[df == 'Missed'].count(axis=1)"
   ]
  },
  {
   "cell_type": "code",
   "execution_count": 39,
   "metadata": {},
   "outputs": [],
   "source": [
    "df['Total_Sessions'] = df[['Attended_Count', 'Missed_Count']].sum(axis=1)"
   ]
  },
  {
   "cell_type": "code",
   "execution_count": 40,
   "metadata": {},
   "outputs": [],
   "source": [
    "df['Attended_Percentage'] = (df['Attended_Count'] / df['Total_Sessions']) * 100\n",
    "df['Missed_Percentage'] = (df['Missed_Count'] / df['Total_Sessions']) * 100"
   ]
  },
  {
   "cell_type": "code",
   "execution_count": 41,
   "metadata": {},
   "outputs": [
    {
     "data": {
      "text/html": [
       "<div>\n",
       "<style scoped>\n",
       "    .dataframe tbody tr th:only-of-type {\n",
       "        vertical-align: middle;\n",
       "    }\n",
       "\n",
       "    .dataframe tbody tr th {\n",
       "        vertical-align: top;\n",
       "    }\n",
       "\n",
       "    .dataframe thead th {\n",
       "        text-align: right;\n",
       "    }\n",
       "</style>\n",
       "<table border=\"1\" class=\"dataframe\">\n",
       "  <thead>\n",
       "    <tr style=\"text-align: right;\">\n",
       "      <th></th>\n",
       "      <th>Student Roll Num</th>\n",
       "      <th>Type</th>\n",
       "      <th>10-01-21</th>\n",
       "      <th>R-10-01-21</th>\n",
       "      <th>09-01-21</th>\n",
       "      <th>R-9-01-21</th>\n",
       "      <th>08-01-21</th>\n",
       "      <th>R-8-01-21</th>\n",
       "      <th>07-01-21</th>\n",
       "      <th>R-7-01-21</th>\n",
       "      <th>...</th>\n",
       "      <th>R-3-01-21</th>\n",
       "      <th>02-01-21</th>\n",
       "      <th>R-02-01-21</th>\n",
       "      <th>01-01-21</th>\n",
       "      <th>R-01-01-21</th>\n",
       "      <th>Attended_Count</th>\n",
       "      <th>Missed_Count</th>\n",
       "      <th>Total_Sessions</th>\n",
       "      <th>Attended_Percentage</th>\n",
       "      <th>Missed_Percentage</th>\n",
       "    </tr>\n",
       "  </thead>\n",
       "  <tbody>\n",
       "    <tr>\n",
       "      <th>0</th>\n",
       "      <td>1</td>\n",
       "      <td>WORKING</td>\n",
       "      <td>Missed</td>\n",
       "      <td>6</td>\n",
       "      <td>Missed</td>\n",
       "      <td>10</td>\n",
       "      <td>Missed</td>\n",
       "      <td>5</td>\n",
       "      <td>Missed</td>\n",
       "      <td>6</td>\n",
       "      <td>...</td>\n",
       "      <td>9</td>\n",
       "      <td>Missed</td>\n",
       "      <td>10.0</td>\n",
       "      <td>Missed</td>\n",
       "      <td>10.0</td>\n",
       "      <td>0</td>\n",
       "      <td>10</td>\n",
       "      <td>10</td>\n",
       "      <td>0.0</td>\n",
       "      <td>100.0</td>\n",
       "    </tr>\n",
       "    <tr>\n",
       "      <th>1</th>\n",
       "      <td>2</td>\n",
       "      <td>STUDENT</td>\n",
       "      <td>Missed</td>\n",
       "      <td>10</td>\n",
       "      <td>Missed</td>\n",
       "      <td>10</td>\n",
       "      <td>Missed</td>\n",
       "      <td>6</td>\n",
       "      <td>Attended</td>\n",
       "      <td>9</td>\n",
       "      <td>...</td>\n",
       "      <td>7</td>\n",
       "      <td>Attended</td>\n",
       "      <td>10.0</td>\n",
       "      <td>Missed</td>\n",
       "      <td>8.0</td>\n",
       "      <td>4</td>\n",
       "      <td>6</td>\n",
       "      <td>10</td>\n",
       "      <td>40.0</td>\n",
       "      <td>60.0</td>\n",
       "    </tr>\n",
       "    <tr>\n",
       "      <th>2</th>\n",
       "      <td>3</td>\n",
       "      <td>STUDENT</td>\n",
       "      <td>Missed</td>\n",
       "      <td>10</td>\n",
       "      <td>Missed</td>\n",
       "      <td>8</td>\n",
       "      <td>Missed</td>\n",
       "      <td>9</td>\n",
       "      <td>Missed</td>\n",
       "      <td>9</td>\n",
       "      <td>...</td>\n",
       "      <td>7</td>\n",
       "      <td>Attended</td>\n",
       "      <td>5.0</td>\n",
       "      <td>Attended</td>\n",
       "      <td>6.0</td>\n",
       "      <td>4</td>\n",
       "      <td>6</td>\n",
       "      <td>10</td>\n",
       "      <td>40.0</td>\n",
       "      <td>60.0</td>\n",
       "    </tr>\n",
       "    <tr>\n",
       "      <th>3</th>\n",
       "      <td>4</td>\n",
       "      <td>STUDENT</td>\n",
       "      <td>Missed</td>\n",
       "      <td>10</td>\n",
       "      <td>Missed</td>\n",
       "      <td>8</td>\n",
       "      <td>Attended</td>\n",
       "      <td>10</td>\n",
       "      <td>Missed</td>\n",
       "      <td>6</td>\n",
       "      <td>...</td>\n",
       "      <td>8</td>\n",
       "      <td>Attended</td>\n",
       "      <td>8.0</td>\n",
       "      <td>Attended</td>\n",
       "      <td>7.0</td>\n",
       "      <td>5</td>\n",
       "      <td>5</td>\n",
       "      <td>10</td>\n",
       "      <td>50.0</td>\n",
       "      <td>50.0</td>\n",
       "    </tr>\n",
       "    <tr>\n",
       "      <th>4</th>\n",
       "      <td>5</td>\n",
       "      <td>WORKING</td>\n",
       "      <td>Missed</td>\n",
       "      <td>10</td>\n",
       "      <td>Missed</td>\n",
       "      <td>6</td>\n",
       "      <td>Missed</td>\n",
       "      <td>8</td>\n",
       "      <td>Missed</td>\n",
       "      <td>9</td>\n",
       "      <td>...</td>\n",
       "      <td>5</td>\n",
       "      <td>Missed</td>\n",
       "      <td>8.0</td>\n",
       "      <td>Missed</td>\n",
       "      <td>10.0</td>\n",
       "      <td>0</td>\n",
       "      <td>10</td>\n",
       "      <td>10</td>\n",
       "      <td>0.0</td>\n",
       "      <td>100.0</td>\n",
       "    </tr>\n",
       "  </tbody>\n",
       "</table>\n",
       "<p>5 rows × 27 columns</p>\n",
       "</div>"
      ],
      "text/plain": [
       "   Student Roll Num     Type 10-01-21  R-10-01-21 09-01-21  R-9-01-21  \\\n",
       "0                 1  WORKING   Missed           6   Missed         10   \n",
       "1                 2  STUDENT   Missed          10   Missed         10   \n",
       "2                 3  STUDENT   Missed          10   Missed          8   \n",
       "3                 4  STUDENT   Missed          10   Missed          8   \n",
       "4                 5  WORKING   Missed          10   Missed          6   \n",
       "\n",
       "   08-01-21  R-8-01-21  07-01-21  R-7-01-21  ... R-3-01-21  02-01-21  \\\n",
       "0    Missed          5    Missed          6  ...         9    Missed   \n",
       "1    Missed          6  Attended          9  ...         7  Attended   \n",
       "2    Missed          9    Missed          9  ...         7  Attended   \n",
       "3  Attended         10    Missed          6  ...         8  Attended   \n",
       "4    Missed          8    Missed          9  ...         5    Missed   \n",
       "\n",
       "  R-02-01-21  01-01-21 R-01-01-21  Attended_Count Missed_Count  \\\n",
       "0       10.0    Missed       10.0               0           10   \n",
       "1       10.0    Missed        8.0               4            6   \n",
       "2        5.0  Attended        6.0               4            6   \n",
       "3        8.0  Attended        7.0               5            5   \n",
       "4        8.0    Missed       10.0               0           10   \n",
       "\n",
       "   Total_Sessions Attended_Percentage  Missed_Percentage  \n",
       "0              10                 0.0              100.0  \n",
       "1              10                40.0               60.0  \n",
       "2              10                40.0               60.0  \n",
       "3              10                50.0               50.0  \n",
       "4              10                 0.0              100.0  \n",
       "\n",
       "[5 rows x 27 columns]"
      ]
     },
     "execution_count": 41,
     "metadata": {},
     "output_type": "execute_result"
    }
   ],
   "source": [
    "df.head()"
   ]
  },
  {
   "cell_type": "code",
   "execution_count": 42,
   "metadata": {},
   "outputs": [],
   "source": [
    "student_data = df[df['Type'] == 'STUDENT']\n",
    "working_data = df[df['Type'] == 'WORKING']\n",
    "ignore_data = df[df['Type'] == 'IGNORE']\n",
    "dropout_data = df[df['Type'] == 'DROPOUT']"
   ]
  },
  {
   "cell_type": "code",
   "execution_count": 43,
   "metadata": {},
   "outputs": [],
   "source": [
    "types = ['Student', 'Working', 'IGNORE', 'Dropout']\n",
    "attended_percentage = [\n",
    "    student_data['Attended_Percentage'].mean(),\n",
    "    working_data['Attended_Percentage'].mean(),\n",
    "    ignore_data['Attended_Percentage'].mean(),\n",
    "    dropout_data['Attended_Percentage'].mean()\n",
    "]"
   ]
  },
  {
   "cell_type": "code",
   "execution_count": 44,
   "metadata": {},
   "outputs": [],
   "source": [
    "missed_percentage = [\n",
    "    student_data['Missed_Percentage'].mean(),\n",
    "    working_data['Missed_Percentage'].mean(),\n",
    "    ignore_data['Missed_Percentage'].mean(),\n",
    "    dropout_data['Missed_Percentage'].mean()\n",
    "]"
   ]
  },
  {
   "cell_type": "code",
   "execution_count": 45,
   "metadata": {},
   "outputs": [],
   "source": [
    "bar_width = 0.3\n",
    "r1 = range(len(types))\n",
    "r2 = [x + bar_width for x in r1]"
   ]
  },
  {
   "cell_type": "code",
   "execution_count": 46,
   "metadata": {},
   "outputs": [
    {
     "data": {
      "image/png": "[encoded data removed]",
      "text/plain": [
       "<Figure size 1080x432 with 1 Axes>"
      ]
     },
     "metadata": {
      "needs_background": "light"
     },
     "output_type": "display_data"
    }
   ],
   "source": [
    "plt.figure(figsize=(15, 6))\n",
    "plt.bar(r1, attended_percentage, color='#A0DFFC', width=bar_width, edgecolor='white', label='Attended')\n",
    "plt.bar(r2, missed_percentage, color='#B0E57C', width=bar_width, edgecolor='white', label='Missed')\n",
    "plt.xlabel('Type')\n",
    "plt.ylabel('Percentage')\n",
    "plt.title('Attendance Percentage by Type')\n",
    "plt.xticks([r + bar_width/2 for r in range(len(types))], types)\n",
    "plt.legend()\n",
    "plt.show()"
   ]
  },
  {
   "cell_type": "markdown",
   "metadata": {},
   "source": [
    "1.Students are almost equally attending and missing the classes need more focus on students.\n",
    "\n",
    "2.From above polt we can observe that Ignore, Dropout, Students are missing the sessions."
   ]
  },
  {
   "cell_type": "code",
   "execution_count": 47,
   "metadata": {},
   "outputs": [],
   "source": [
    "student_ratings = df[df['Type'] == 'STUDENT'][['R-10-01-21', 'R-9-01-21', 'R-8-01-21', 'R-7-01-21', 'R-6-01-21', 'R-5-01-21', 'R-4-01-21', 'R-3-01-21', 'R-02-01-21', 'R-01-01-21']]\n",
    "working_ratings = df[df['Type'] == 'WORKING'][['R-10-01-21', 'R-9-01-21', 'R-8-01-21', 'R-7-01-21', 'R-6-01-21', 'R-5-01-21', 'R-4-01-21', 'R-3-01-21', 'R-02-01-21', 'R-01-01-21']]\n",
    "ignore_ratings = df[df['Type'] == 'IGNORE'][['R-10-01-21', 'R-9-01-21', 'R-8-01-21', 'R-7-01-21', 'R-6-01-21', 'R-5-01-21', 'R-4-01-21', 'R-3-01-21', 'R-02-01-21', 'R-01-01-21']]\n",
    "dropout_ratings = df[df['Type'] == 'DROPOUT'][['R-10-01-21', 'R-9-01-21', 'R-8-01-21', 'R-7-01-21', 'R-6-01-21', 'R-5-01-21', 'R-4-01-21', 'R-3-01-21', 'R-02-01-21', 'R-01-01-21']]"
   ]
  },
  {
   "cell_type": "code",
   "execution_count": 48,
   "metadata": {},
   "outputs": [],
   "source": [
    "student_ratings = student_ratings.values.flatten()\n",
    "working_ratings = working_ratings.values.flatten()\n",
    "ignore_ratings = ignore_ratings.values.flatten()\n",
    "dropout_ratings = dropout_ratings.values.flatten()"
   ]
  },
  {
   "cell_type": "code",
   "execution_count": 49,
   "metadata": {},
   "outputs": [],
   "source": [
    "ratings = np.concatenate([student_ratings, working_ratings, ignore_ratings, dropout_ratings])\n",
    "types = ['STUDENT'] * len(student_ratings) + ['WORKING'] * len(working_ratings) + ['IGNORE'] * len(ignore_ratings) + ['DROPOUT'] * len(dropout_ratings)\n",
    "df_ratings = pd.DataFrame({'Rating': ratings, 'Type': types})\n",
    "\n",
    "\n",
    "filtered_ratings = df_ratings[(df_ratings['Rating'] >= 5) & (df_ratings['Rating'] <= 7)]"
   ]
  },
  {
   "cell_type": "code",
   "execution_count": 50,
   "metadata": {},
   "outputs": [],
   "source": [
    "rating_counts = filtered_ratings.groupby(['Type', 'Rating']).size().reset_index(name='Count')"
   ]
  },
  {
   "cell_type": "code",
   "execution_count": 51,
   "metadata": {},
   "outputs": [
    {
     "data": {
      "image/png": "[encoded data removed]",
      "text/plain": [
       "<Figure size 720x432 with 1 Axes>"
      ]
     },
     "metadata": {
      "needs_background": "light"
     },
     "output_type": "display_data"
    }
   ],
   "source": [
    "plt.figure(figsize=(10, 6))\n",
    "sns.barplot(x='Type', y='Count', hue='Rating', data=rating_counts, palette='husl')\n",
    "plt.xlabel('Type')\n",
    "plt.ylabel('Count')\n",
    "plt.title('Count of Ratings (5-7) by Type')\n",
    "plt.legend(title='Rating')\n",
    "plt.tight_layout()\n",
    "plt.show()"
   ]
  },
  {
   "cell_type": "markdown",
   "metadata": {},
   "source": [
    "1.Highly unsatisfied people are working people.\n",
    "\n",
    "2.Above image shows that very Low rating(5) was given by working people.\n",
    "\n",
    "3.Above plot shows the 5-7 range ratings given by type of people."
   ]
  },
  {
   "cell_type": "code",
   "execution_count": 52,
   "metadata": {},
   "outputs": [],
   "source": [
    "ratings = np.concatenate([student_ratings, working_ratings, ignore_ratings, dropout_ratings])\n",
    "types = ['STUDENT'] * len(student_ratings) + ['WORKING'] * len(working_ratings) + ['IGNORE'] * len(ignore_ratings) + ['DROPOUT'] * len(dropout_ratings)\n",
    "df_ratings = pd.DataFrame({'Rating': ratings, 'Type': types})"
   ]
  },
  {
   "cell_type": "code",
   "execution_count": 53,
   "metadata": {},
   "outputs": [],
   "source": [
    "filtered_ratings = df_ratings[(df_ratings['Rating'] >= 8) & (df_ratings['Rating'] <= 10)]\n",
    "rating_counts = filtered_ratings.groupby(['Type', 'Rating']).size().reset_index(name='Count')"
   ]
  },
  {
   "cell_type": "code",
   "execution_count": 54,
   "metadata": {},
   "outputs": [
    {
     "data": {
      "image/png": "[encoded data removed]",
      "text/plain": [
       "<Figure size 720x432 with 1 Axes>"
      ]
     },
     "metadata": {
      "needs_background": "light"
     },
     "output_type": "display_data"
    }
   ],
   "source": [
    "plt.figure(figsize=(10, 6))\n",
    "sns.barplot(x='Type', y='Count', hue='Rating', data=rating_counts, palette='hls')\n",
    "plt.xlabel('Type')\n",
    "plt.ylabel('Count')\n",
    "plt.title('Count of Ratings (8-10) by Type')\n",
    "plt.legend(title='Rating')\n",
    "plt.tight_layout()\n",
    "plt.show()"
   ]
  },
  {
   "cell_type": "markdown",
   "metadata": {},
   "source": [
    "1.Highly Satisfied people are Students.\n",
    "\n",
    "2.Above plot image shows the ratings range 8-10.\n",
    "\n",
    "3.Highest rating 10 was highly given by students followed by working people."
   ]
  },
  {
   "cell_type": "markdown",
   "metadata": {},
   "source": [
    "# Visualizing Class 1 and Class 2"
   ]
  },
  {
   "cell_type": "code",
   "execution_count": 55,
   "metadata": {},
   "outputs": [],
   "source": [
    "student_ratings = class_1[class_1['Type'] == 'STUDENT'][['R-10-01-21', 'R-9-01-21', 'R-8-01-21', 'R-7-01-21', 'R-6-01-21', 'R-5-01-21', 'R-4-01-21', 'R-3-01-21', 'R-02-01-21', 'R-01-01-21']]\n",
    "working_ratings = class_1[class_1['Type'] == 'WORKING'][['R-10-01-21', 'R-9-01-21', 'R-8-01-21', 'R-7-01-21', 'R-6-01-21', 'R-5-01-21', 'R-4-01-21', 'R-3-01-21', 'R-02-01-21', 'R-01-01-21']]\n",
    "ignore_ratings = class_1[class_1['Type'] == 'IGNORE'][['R-10-01-21', 'R-9-01-21', 'R-8-01-21', 'R-7-01-21', 'R-6-01-21', 'R-5-01-21', 'R-4-01-21', 'R-3-01-21', 'R-02-01-21', 'R-01-01-21']]\n",
    "dropout_ratings = class_1[class_1['Type'] == 'DROPOUT'][['R-10-01-21', 'R-9-01-21', 'R-8-01-21', 'R-7-01-21', 'R-6-01-21', 'R-5-01-21', 'R-4-01-21', 'R-3-01-21', 'R-02-01-21', 'R-01-01-21']]"
   ]
  },
  {
   "cell_type": "code",
   "execution_count": 56,
   "metadata": {},
   "outputs": [],
   "source": [
    "student_ratings = student_ratings.values.flatten()\n",
    "working_ratings = working_ratings.values.flatten()\n",
    "ignore_ratings = ignore_ratings.values.flatten()\n",
    "dropout_ratings = dropout_ratings.values.flatten()"
   ]
  },
  {
   "cell_type": "code",
   "execution_count": 57,
   "metadata": {},
   "outputs": [],
   "source": [
    "ratings = np.concatenate([student_ratings, working_ratings, ignore_ratings, dropout_ratings])\n",
    "types = ['STUDENT'] * len(student_ratings) + ['WORKING'] * len(working_ratings) + ['IGNORE'] * len(ignore_ratings) + ['DROPOUT'] * len(dropout_ratings)\n",
    "df_ratings = pd.DataFrame({'Rating': ratings, 'Type': types})"
   ]
  },
  {
   "cell_type": "code",
   "execution_count": 58,
   "metadata": {},
   "outputs": [],
   "source": [
    "filtered_ratings = df_ratings[(df_ratings['Rating'] >= 5) & (df_ratings['Rating'] <= 10)]"
   ]
  },
  {
   "cell_type": "code",
   "execution_count": 59,
   "metadata": {},
   "outputs": [],
   "source": [
    "rating_counts = filtered_ratings.groupby(['Type', 'Rating']).size().reset_index(name='Count')"
   ]
  },
  {
   "cell_type": "code",
   "execution_count": 60,
   "metadata": {},
   "outputs": [
    {
     "data": {
      "image/png": "[encoded data removed]",
      "text/plain": [
       "<Figure size 720x432 with 1 Axes>"
      ]
     },
     "metadata": {
      "needs_background": "light"
     },
     "output_type": "display_data"
    }
   ],
   "source": [
    "plt.figure(figsize=(10, 6))\n",
    "sns.barplot(x='Type', y='Count', hue='Rating', data=rating_counts, palette='Paired')\n",
    "plt.xlabel('Type')\n",
    "plt.ylabel('Count')\n",
    "plt.title('Count of Ratings (5-10) by Type of Class-1')\n",
    "plt.legend(title='Rating')\n",
    "plt.tight_layout()\n",
    "plt.show()"
   ]
  },
  {
   "cell_type": "markdown",
   "metadata": {},
   "source": [
    "1.In class-1 Highest satisfied people are Students and they have given highest 10 rating.\n",
    "\n",
    "2.Also Lowest 5 ratings are highly given by students only followed by working people."
   ]
  },
  {
   "cell_type": "code",
   "execution_count": 61,
   "metadata": {},
   "outputs": [],
   "source": [
    "student_ratings = class_1[class_1['Type'] == 'STUDENT'][['R-10-01-21', 'R-9-01-21', 'R-8-01-21', 'R-7-01-21', 'R-6-01-21', 'R-5-01-21', 'R-4-01-21', 'R-3-01-21', 'R-02-01-21', 'R-01-01-21']]\n",
    "working_ratings = class_1[class_1['Type'] == 'WORKING'][['R-10-01-21', 'R-9-01-21', 'R-8-01-21', 'R-7-01-21', 'R-6-01-21', 'R-5-01-21', 'R-4-01-21', 'R-3-01-21', 'R-02-01-21', 'R-01-01-21']]\n",
    "ignore_ratings = class_1[class_1['Type'] == 'IGNORE'][['R-10-01-21', 'R-9-01-21', 'R-8-01-21', 'R-7-01-21', 'R-6-01-21', 'R-5-01-21', 'R-4-01-21', 'R-3-01-21', 'R-02-01-21', 'R-01-01-21']]\n",
    "dropout_ratings = class_1[class_1['Type'] == 'DROPOUT'][['R-10-01-21', 'R-9-01-21', 'R-8-01-21', 'R-7-01-21', 'R-6-01-21', 'R-5-01-21', 'R-4-01-21', 'R-3-01-21', 'R-02-01-21', 'R-01-01-21']]"
   ]
  },
  {
   "cell_type": "code",
   "execution_count": 62,
   "metadata": {},
   "outputs": [],
   "source": [
    "student_ratings = student_ratings.values.flatten()\n",
    "working_ratings = working_ratings.values.flatten()\n",
    "ignore_ratings = ignore_ratings.values.flatten()\n",
    "dropout_ratings = dropout_ratings.values.flatten()"
   ]
  },
  {
   "cell_type": "code",
   "execution_count": 63,
   "metadata": {},
   "outputs": [],
   "source": [
    "ratings = np.concatenate([student_ratings, working_ratings, ignore_ratings, dropout_ratings])\n",
    "types = ['STUDENT'] * len(student_ratings) + ['WORKING'] * len(working_ratings) + ['IGNORE'] * len(ignore_ratings) + ['DROPOUT'] * len(dropout_ratings)\n",
    "df_ratings = pd.DataFrame({'Rating': ratings, 'Type': types})"
   ]
  },
  {
   "cell_type": "code",
   "execution_count": 64,
   "metadata": {},
   "outputs": [],
   "source": [
    "filtered_ratings = df_ratings[(df_ratings['Rating'] >= 5) & (df_ratings['Rating'] <= 10)]"
   ]
  },
  {
   "cell_type": "code",
   "execution_count": 65,
   "metadata": {},
   "outputs": [],
   "source": [
    "rating_counts = filtered_ratings.groupby(['Type', 'Rating']).size().reset_index(name='Count')"
   ]
  },
  {
   "cell_type": "code",
   "execution_count": 66,
   "metadata": {},
   "outputs": [
    {
     "data": {
      "image/png": "[encoded data removed]",
      "text/plain": [
       "<Figure size 720x432 with 1 Axes>"
      ]
     },
     "metadata": {
      "needs_background": "light"
     },
     "output_type": "display_data"
    }
   ],
   "source": [
    "plt.figure(figsize=(10, 6))\n",
    "sns.barplot(x='Type', y='Count', hue='Rating', data=rating_counts, palette='Set2')\n",
    "plt.xlabel('Type')\n",
    "plt.ylabel('Count')\n",
    "plt.title('Count of Ratings (5-10) by Type of Class-2')\n",
    "plt.legend(title='Rating')\n",
    "plt.tight_layout()\n",
    "plt.show()"
   ]
  },
  {
   "cell_type": "markdown",
   "metadata": {},
   "source": [
    "Note:\n",
    "    \n",
    "1.In both classes we have seen mixed ratings.\n",
    "\n",
    "2.In class-1 highest people are students and in class-2 highest people are working."
   ]
  },
  {
   "cell_type": "code",
   "execution_count": 67,
   "metadata": {},
   "outputs": [],
   "source": [
    "class_1['Attended_Count'] = class_1[class_1 == 'Attended'].count(axis=1)\n",
    "class_1['Missed_Count'] = class_1[class_1 == 'Missed'].count(axis=1)\n",
    "class_1['Total_Sessions'] = class_1[['Attended_Count', 'Missed_Count']].sum(axis=1)"
   ]
  },
  {
   "cell_type": "code",
   "execution_count": 68,
   "metadata": {},
   "outputs": [],
   "source": [
    "class_1['Attended_Percentage'] = (class_1['Attended_Count'] / class_1['Total_Sessions']) * 100\n",
    "class_1['Missed_Percentage'] = (class_1['Missed_Count'] / class_1['Total_Sessions']) * 100"
   ]
  },
  {
   "cell_type": "code",
   "execution_count": 69,
   "metadata": {},
   "outputs": [],
   "source": [
    "student_data = class_1[class_1['Type'] == 'STUDENT']\n",
    "working_data = class_1[class_1['Type'] == 'WORKING']\n",
    "ignore_data = class_1[class_1['Type'] == 'IGNORE']\n",
    "dropout_data = class_1[class_1['Type'] == 'DROPOUT']"
   ]
  },
  {
   "cell_type": "code",
   "execution_count": 70,
   "metadata": {},
   "outputs": [],
   "source": [
    "types = ['Student', 'Working', 'IGNORE', 'Dropout']\n",
    "attended_percentage = [\n",
    "    student_data['Attended_Percentage'].mean(),\n",
    "    working_data['Attended_Percentage'].mean(),\n",
    "    ignore_data['Attended_Percentage'].mean(),\n",
    "    dropout_data['Attended_Percentage'].mean()\n",
    "]\n",
    "\n",
    "missed_percentage = [\n",
    "    student_data['Missed_Percentage'].mean(),\n",
    "    working_data['Missed_Percentage'].mean(),\n",
    "    ignore_data['Missed_Percentage'].mean(),\n",
    "    dropout_data['Missed_Percentage'].mean()\n",
    "]"
   ]
  },
  {
   "cell_type": "code",
   "execution_count": 71,
   "metadata": {},
   "outputs": [],
   "source": [
    "bar_width = 0.35\n",
    "r1 = range(len(types))\n",
    "r2 = [x + bar_width for x in r1]"
   ]
  },
  {
   "cell_type": "code",
   "execution_count": 72,
   "metadata": {},
   "outputs": [
    {
     "data": {
      "image/png": "[encoded data removed]",
      "text/plain": [
       "<Figure size 1080x432 with 1 Axes>"
      ]
     },
     "metadata": {
      "needs_background": "light"
     },
     "output_type": "display_data"
    }
   ],
   "source": [
    "plt.figure(figsize=(15, 6))\n",
    "plt.bar(r1, attended_percentage, color='#FFA500', width=bar_width, edgecolor='white', label='Attended')\n",
    "plt.bar(r2, missed_percentage, color='#0000FF', width=bar_width, edgecolor='white', label='Missed')\n",
    "plt.xlabel('Type')\n",
    "plt.ylabel('Percentage')\n",
    "plt.title('Attendance Percentage by Type')\n",
    "plt.xticks([r + bar_width/2 for r in range(len(types))], types)\n",
    "plt.legend()\n",
    "plt.show()"
   ]
  },
  {
   "cell_type": "code",
   "execution_count": 73,
   "metadata": {},
   "outputs": [],
   "source": [
    "class_2['Attended_Count'] = class_2[class_2 == 'Attended'].count(axis=1)\n",
    "class_2['Missed_Count'] = class_2[class_2 == 'Missed'].count(axis=1)\n",
    "class_2['Total_Sessions'] = class_2[['Attended_Count', 'Missed_Count']].sum(axis=1)\n",
    "class_2['Attended_Percentage'] = (class_2['Attended_Count'] / class_2['Total_Sessions']) * 100\n",
    "class_2['Missed_Percentage'] = (class_2['Missed_Count'] / class_2['Total_Sessions']) * 100"
   ]
  },
  {
   "cell_type": "code",
   "execution_count": 74,
   "metadata": {},
   "outputs": [],
   "source": [
    "student_data = class_2[class_2['Type'] == 'STUDENT']\n",
    "working_data = class_2[class_2['Type'] == 'WORKING']\n",
    "ignore_data = class_2[class_2['Type'] == 'IGNORE']\n",
    "dropout_data = class_2[class_2['Type'] == 'DROPOUT']"
   ]
  },
  {
   "cell_type": "code",
   "execution_count": 75,
   "metadata": {},
   "outputs": [],
   "source": [
    "types = ['Student', 'Working', 'IGNORE', 'Dropout']\n",
    "attended_percentage = [\n",
    "    student_data['Attended_Percentage'].mean(),\n",
    "    working_data['Attended_Percentage'].mean(),\n",
    "    ignore_data['Attended_Percentage'].mean(),\n",
    "    dropout_data['Attended_Percentage'].mean()\n",
    "]\n",
    "\n",
    "missed_percentage = [\n",
    "    student_data['Missed_Percentage'].mean(),\n",
    "    working_data['Missed_Percentage'].mean(),\n",
    "    ignore_data['Missed_Percentage'].mean(),\n",
    "    dropout_data['Missed_Percentage'].mean()\n",
    "]"
   ]
  },
  {
   "cell_type": "code",
   "execution_count": 76,
   "metadata": {},
   "outputs": [],
   "source": [
    "bar_width = 0.3\n",
    "r1 = range(len(types))\n",
    "r2 = [x + bar_width for x in r1]"
   ]
  },
  {
   "cell_type": "code",
   "execution_count": 77,
   "metadata": {},
   "outputs": [
    {
     "data": {
      "image/png": "[encoded data removed]",
      "text/plain": [
       "<Figure size 1080x432 with 1 Axes>"
      ]
     },
     "metadata": {
      "needs_background": "light"
     },
     "output_type": "display_data"
    }
   ],
   "source": [
    "plt.figure(figsize=(15, 6))\n",
    "plt.bar(r1, attended_percentage, color='#4B0082', width=bar_width, edgecolor='white', label='Attended')\n",
    "plt.bar(r2, missed_percentage, color='#FF0000', width=bar_width, edgecolor='white', label='Missed')\n",
    "plt.xlabel('Type')\n",
    "plt.ylabel('Percentage')\n",
    "plt.title('Attendance Percentage by Type')\n",
    "plt.xticks([r + bar_width/2 for r in range(len(types))], types)\n",
    "plt.legend()\n",
    "plt.show()"
   ]
  },
  {
   "cell_type": "markdown",
   "metadata": {},
   "source": [
    "Observation:\n",
    "\n",
    "1.It's been observed that in both classes dropouts and ignoring people are high.\n",
    "\n",
    "2.Students and working people in both classes are ignoring major classes.\n",
    "\n",
    "3.Need to focus on students and working people to increase high attendence"
   ]
  },
  {
   "cell_type": "code",
   "execution_count": null,
   "metadata": {},
   "outputs": [],
   "source": []
  }
 ],
 "metadata": {
  "kernelspec": {
   "display_name": "Python 3",
   "language": "python",
   "name": "python3"
  },
  "language_info": {
   "codemirror_mode": {
    "name": "ipython",
    "version": 3
   },
   "file_extension": ".py",
   "mimetype": "text/x-python",
   "name": "python",
   "nbconvert_exporter": "python",
   "pygments_lexer": "ipython3",
   "version": "3.7.6"
  }
 },
 "nbformat": 4,
 "nbformat_minor": 4
}
